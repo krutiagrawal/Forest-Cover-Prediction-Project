{
 "cells": [
  {
   "cell_type": "code",
   "id": "98b18af8-9892-48c1-8482-93e35b511b51",
   "metadata": {
    "ExecuteTime": {
     "end_time": "2024-10-30T13:49:54.227546Z",
     "start_time": "2024-10-30T13:49:54.212346Z"
    }
   },
   "source": [
    "# Importing modules\n",
    "\n",
    "import pandas as pd\n",
    "import numpy as np\n",
    "from sklearn.model_selection import train_test_split\n",
    "from sklearn.preprocessing import StandardScaler\n",
    "from tensorflow.keras.models import Sequential\n",
    "from tensorflow.keras.layers import Dense\n",
    "from tensorflow.keras.utils import to_categorical\n",
    "from sklearn.metrics import accuracy_score\n",
    "import joblib"
   ],
   "outputs": [],
   "execution_count": 23
  },
  {
   "cell_type": "code",
   "id": "04e9000b-2ffa-4cdd-8f4b-f1a01ee8eb0e",
   "metadata": {
    "ExecuteTime": {
     "end_time": "2024-10-30T13:49:54.331802Z",
     "start_time": "2024-10-30T13:49:54.235560Z"
    }
   },
   "source": [
    "# Loading the dataset\n",
    "data = pd.read_csv(r'C:\\Users\\Kruti Agrawal\\Desktop\\Projects\\forest_cover_prediction\\forest_cover_prediction\\train.csv')\n",
    "data.head()"
   ],
   "outputs": [
    {
     "data": {
      "text/plain": [
       "   Id  Elevation  Aspect  Slope  Horizontal_Distance_To_Hydrology  \\\n",
       "0   1       2596      51      3                               258   \n",
       "1   2       2590      56      2                               212   \n",
       "2   3       2804     139      9                               268   \n",
       "3   4       2785     155     18                               242   \n",
       "4   5       2595      45      2                               153   \n",
       "\n",
       "   Vertical_Distance_To_Hydrology  Horizontal_Distance_To_Roadways  \\\n",
       "0                               0                              510   \n",
       "1                              -6                              390   \n",
       "2                              65                             3180   \n",
       "3                             118                             3090   \n",
       "4                              -1                              391   \n",
       "\n",
       "   Hillshade_9am  Hillshade_Noon  Hillshade_3pm  ...  Soil_Type32  \\\n",
       "0            221             232            148  ...            0   \n",
       "1            220             235            151  ...            0   \n",
       "2            234             238            135  ...            0   \n",
       "3            238             238            122  ...            0   \n",
       "4            220             234            150  ...            0   \n",
       "\n",
       "   Soil_Type33  Soil_Type34  Soil_Type35  Soil_Type36  Soil_Type37  \\\n",
       "0            0            0            0            0            0   \n",
       "1            0            0            0            0            0   \n",
       "2            0            0            0            0            0   \n",
       "3            0            0            0            0            0   \n",
       "4            0            0            0            0            0   \n",
       "\n",
       "   Soil_Type38  Soil_Type39  Soil_Type40  Cover_Type  \n",
       "0            0            0            0           5  \n",
       "1            0            0            0           5  \n",
       "2            0            0            0           2  \n",
       "3            0            0            0           2  \n",
       "4            0            0            0           5  \n",
       "\n",
       "[5 rows x 56 columns]"
      ],
      "text/html": [
       "<div>\n",
       "<style scoped>\n",
       "    .dataframe tbody tr th:only-of-type {\n",
       "        vertical-align: middle;\n",
       "    }\n",
       "\n",
       "    .dataframe tbody tr th {\n",
       "        vertical-align: top;\n",
       "    }\n",
       "\n",
       "    .dataframe thead th {\n",
       "        text-align: right;\n",
       "    }\n",
       "</style>\n",
       "<table border=\"1\" class=\"dataframe\">\n",
       "  <thead>\n",
       "    <tr style=\"text-align: right;\">\n",
       "      <th></th>\n",
       "      <th>Id</th>\n",
       "      <th>Elevation</th>\n",
       "      <th>Aspect</th>\n",
       "      <th>Slope</th>\n",
       "      <th>Horizontal_Distance_To_Hydrology</th>\n",
       "      <th>Vertical_Distance_To_Hydrology</th>\n",
       "      <th>Horizontal_Distance_To_Roadways</th>\n",
       "      <th>Hillshade_9am</th>\n",
       "      <th>Hillshade_Noon</th>\n",
       "      <th>Hillshade_3pm</th>\n",
       "      <th>...</th>\n",
       "      <th>Soil_Type32</th>\n",
       "      <th>Soil_Type33</th>\n",
       "      <th>Soil_Type34</th>\n",
       "      <th>Soil_Type35</th>\n",
       "      <th>Soil_Type36</th>\n",
       "      <th>Soil_Type37</th>\n",
       "      <th>Soil_Type38</th>\n",
       "      <th>Soil_Type39</th>\n",
       "      <th>Soil_Type40</th>\n",
       "      <th>Cover_Type</th>\n",
       "    </tr>\n",
       "  </thead>\n",
       "  <tbody>\n",
       "    <tr>\n",
       "      <th>0</th>\n",
       "      <td>1</td>\n",
       "      <td>2596</td>\n",
       "      <td>51</td>\n",
       "      <td>3</td>\n",
       "      <td>258</td>\n",
       "      <td>0</td>\n",
       "      <td>510</td>\n",
       "      <td>221</td>\n",
       "      <td>232</td>\n",
       "      <td>148</td>\n",
       "      <td>...</td>\n",
       "      <td>0</td>\n",
       "      <td>0</td>\n",
       "      <td>0</td>\n",
       "      <td>0</td>\n",
       "      <td>0</td>\n",
       "      <td>0</td>\n",
       "      <td>0</td>\n",
       "      <td>0</td>\n",
       "      <td>0</td>\n",
       "      <td>5</td>\n",
       "    </tr>\n",
       "    <tr>\n",
       "      <th>1</th>\n",
       "      <td>2</td>\n",
       "      <td>2590</td>\n",
       "      <td>56</td>\n",
       "      <td>2</td>\n",
       "      <td>212</td>\n",
       "      <td>-6</td>\n",
       "      <td>390</td>\n",
       "      <td>220</td>\n",
       "      <td>235</td>\n",
       "      <td>151</td>\n",
       "      <td>...</td>\n",
       "      <td>0</td>\n",
       "      <td>0</td>\n",
       "      <td>0</td>\n",
       "      <td>0</td>\n",
       "      <td>0</td>\n",
       "      <td>0</td>\n",
       "      <td>0</td>\n",
       "      <td>0</td>\n",
       "      <td>0</td>\n",
       "      <td>5</td>\n",
       "    </tr>\n",
       "    <tr>\n",
       "      <th>2</th>\n",
       "      <td>3</td>\n",
       "      <td>2804</td>\n",
       "      <td>139</td>\n",
       "      <td>9</td>\n",
       "      <td>268</td>\n",
       "      <td>65</td>\n",
       "      <td>3180</td>\n",
       "      <td>234</td>\n",
       "      <td>238</td>\n",
       "      <td>135</td>\n",
       "      <td>...</td>\n",
       "      <td>0</td>\n",
       "      <td>0</td>\n",
       "      <td>0</td>\n",
       "      <td>0</td>\n",
       "      <td>0</td>\n",
       "      <td>0</td>\n",
       "      <td>0</td>\n",
       "      <td>0</td>\n",
       "      <td>0</td>\n",
       "      <td>2</td>\n",
       "    </tr>\n",
       "    <tr>\n",
       "      <th>3</th>\n",
       "      <td>4</td>\n",
       "      <td>2785</td>\n",
       "      <td>155</td>\n",
       "      <td>18</td>\n",
       "      <td>242</td>\n",
       "      <td>118</td>\n",
       "      <td>3090</td>\n",
       "      <td>238</td>\n",
       "      <td>238</td>\n",
       "      <td>122</td>\n",
       "      <td>...</td>\n",
       "      <td>0</td>\n",
       "      <td>0</td>\n",
       "      <td>0</td>\n",
       "      <td>0</td>\n",
       "      <td>0</td>\n",
       "      <td>0</td>\n",
       "      <td>0</td>\n",
       "      <td>0</td>\n",
       "      <td>0</td>\n",
       "      <td>2</td>\n",
       "    </tr>\n",
       "    <tr>\n",
       "      <th>4</th>\n",
       "      <td>5</td>\n",
       "      <td>2595</td>\n",
       "      <td>45</td>\n",
       "      <td>2</td>\n",
       "      <td>153</td>\n",
       "      <td>-1</td>\n",
       "      <td>391</td>\n",
       "      <td>220</td>\n",
       "      <td>234</td>\n",
       "      <td>150</td>\n",
       "      <td>...</td>\n",
       "      <td>0</td>\n",
       "      <td>0</td>\n",
       "      <td>0</td>\n",
       "      <td>0</td>\n",
       "      <td>0</td>\n",
       "      <td>0</td>\n",
       "      <td>0</td>\n",
       "      <td>0</td>\n",
       "      <td>0</td>\n",
       "      <td>5</td>\n",
       "    </tr>\n",
       "  </tbody>\n",
       "</table>\n",
       "<p>5 rows × 56 columns</p>\n",
       "</div>"
      ]
     },
     "execution_count": 24,
     "metadata": {},
     "output_type": "execute_result"
    }
   ],
   "execution_count": 24
  },
  {
   "metadata": {
    "ExecuteTime": {
     "end_time": "2024-10-30T13:49:54.459860Z",
     "start_time": "2024-10-30T13:49:54.440845Z"
    }
   },
   "cell_type": "code",
   "source": [
    "# Main columns and target\n",
    "main_columns = [\n",
    "    'Elevation', 'Aspect', 'Slope', 'Horizontal_Distance_To_Hydrology',\n",
    "    'Vertical_Distance_To_Hydrology', 'Horizontal_Distance_To_Roadways',\n",
    "    'Hillshade_9am', 'Hillshade_Noon', 'Hillshade_3pm', 'Horizontal_Distance_To_Fire_Points'\n",
    "]\n",
    "X = data[main_columns]\n",
    "y = data['Cover_Type'] - 1 "
   ],
   "id": "f13db8ee123c62b3",
   "outputs": [],
   "execution_count": 25
  },
  {
   "metadata": {
    "ExecuteTime": {
     "end_time": "2024-10-30T13:49:54.500840Z",
     "start_time": "2024-10-30T13:49:54.484516Z"
    }
   },
   "cell_type": "code",
   "source": [
    "# Converting target to categorical\n",
    "y = to_categorical(y, num_classes=7)"
   ],
   "id": "8ab12c3adf5bed44",
   "outputs": [],
   "execution_count": 26
  },
  {
   "metadata": {
    "ExecuteTime": {
     "end_time": "2024-10-30T13:49:54.613872Z",
     "start_time": "2024-10-30T13:49:54.601699Z"
    }
   },
   "cell_type": "code",
   "source": [
    "# Splitting dataset\n",
    "X_train, X_test, y_train, y_test = train_test_split(X, y, test_size=0.2, random_state=42)"
   ],
   "id": "ad707787f5f8f581",
   "outputs": [],
   "execution_count": 27
  },
  {
   "metadata": {
    "ExecuteTime": {
     "end_time": "2024-10-30T13:49:54.808454Z",
     "start_time": "2024-10-30T13:49:54.787203Z"
    }
   },
   "cell_type": "code",
   "source": [
    "# Standardizing features and save the scaler\n",
    "scaler = StandardScaler()\n",
    "X_train = scaler.fit_transform(X_train)\n",
    "X_test = scaler.transform(X_test)\n",
    "joblib.dump(scaler, 'scaler.pkl')"
   ],
   "id": "da397e8d6821a819",
   "outputs": [
    {
     "data": {
      "text/plain": [
       "['scaler.pkl']"
      ]
     },
     "execution_count": 28,
     "metadata": {},
     "output_type": "execute_result"
    }
   ],
   "execution_count": 28
  },
  {
   "metadata": {
    "ExecuteTime": {
     "end_time": "2024-10-30T13:49:54.938937Z",
     "start_time": "2024-10-30T13:49:54.882309Z"
    }
   },
   "cell_type": "code",
   "source": [
    "# Defining the model architecture\n",
    "model = Sequential([\n",
    "    Dense(64, input_shape=(X_train.shape[1],), activation='relu'),\n",
    "    Dense(64, activation='relu'),\n",
    "    Dense(32, activation='relu'),\n",
    "    Dense(7, activation='softmax')  \n",
    "])"
   ],
   "id": "8c8dc3095068b049",
   "outputs": [],
   "execution_count": 29
  },
  {
   "metadata": {
    "ExecuteTime": {
     "end_time": "2024-10-30T13:49:54.995850Z",
     "start_time": "2024-10-30T13:49:54.975134Z"
    }
   },
   "cell_type": "code",
   "source": [
    "# Compiling the model\n",
    "model.compile(optimizer='adam', loss='categorical_crossentropy', metrics=['accuracy'])"
   ],
   "id": "b829bfd804fe0bf7",
   "outputs": [],
   "execution_count": 30
  },
  {
   "metadata": {
    "ExecuteTime": {
     "end_time": "2024-10-30T13:50:08.404887Z",
     "start_time": "2024-10-30T13:49:55.023534Z"
    }
   },
   "cell_type": "code",
   "source": [
    "# Training the model on 30 epocs\n",
    "history = model.fit(X_train, y_train, validation_data=(X_test, y_test), epochs=30, batch_size=32)"
   ],
   "id": "7d49f535c17eabda",
   "outputs": [
    {
     "name": "stdout",
     "output_type": "stream",
     "text": [
      "Epoch 1/30\n",
      "378/378 [==============================] - 1s 2ms/step - loss: 1.1266 - accuracy: 0.5510 - val_loss: 0.8339 - val_accuracy: 0.6534\n",
      "Epoch 2/30\n",
      "378/378 [==============================] - 0s 1ms/step - loss: 0.7773 - accuracy: 0.6692 - val_loss: 0.7672 - val_accuracy: 0.6782\n",
      "Epoch 3/30\n",
      "378/378 [==============================] - 0s 1ms/step - loss: 0.7268 - accuracy: 0.6972 - val_loss: 0.7287 - val_accuracy: 0.6948\n",
      "Epoch 4/30\n",
      "378/378 [==============================] - 0s 1ms/step - loss: 0.7000 - accuracy: 0.7055 - val_loss: 0.7134 - val_accuracy: 0.6961\n",
      "Epoch 5/30\n",
      "378/378 [==============================] - 0s 1ms/step - loss: 0.6793 - accuracy: 0.7133 - val_loss: 0.6846 - val_accuracy: 0.7143\n",
      "Epoch 6/30\n",
      "378/378 [==============================] - 0s 1ms/step - loss: 0.6619 - accuracy: 0.7258 - val_loss: 0.6687 - val_accuracy: 0.7229\n",
      "Epoch 7/30\n",
      "378/378 [==============================] - 0s 1ms/step - loss: 0.6502 - accuracy: 0.7285 - val_loss: 0.6568 - val_accuracy: 0.7269\n",
      "Epoch 8/30\n",
      "378/378 [==============================] - 0s 1ms/step - loss: 0.6371 - accuracy: 0.7342 - val_loss: 0.6429 - val_accuracy: 0.7345\n",
      "Epoch 9/30\n",
      "378/378 [==============================] - 0s 1ms/step - loss: 0.6234 - accuracy: 0.7404 - val_loss: 0.6684 - val_accuracy: 0.7179\n",
      "Epoch 10/30\n",
      "378/378 [==============================] - 0s 1ms/step - loss: 0.6162 - accuracy: 0.7412 - val_loss: 0.6579 - val_accuracy: 0.7103\n",
      "Epoch 11/30\n",
      "378/378 [==============================] - 0s 1ms/step - loss: 0.6066 - accuracy: 0.7473 - val_loss: 0.6257 - val_accuracy: 0.7358\n",
      "Epoch 12/30\n",
      "378/378 [==============================] - 0s 1ms/step - loss: 0.5970 - accuracy: 0.7534 - val_loss: 0.6275 - val_accuracy: 0.7454\n",
      "Epoch 13/30\n",
      "378/378 [==============================] - 0s 1ms/step - loss: 0.5882 - accuracy: 0.7574 - val_loss: 0.6208 - val_accuracy: 0.7407\n",
      "Epoch 14/30\n",
      "378/378 [==============================] - 0s 1ms/step - loss: 0.5805 - accuracy: 0.7575 - val_loss: 0.6139 - val_accuracy: 0.7493\n",
      "Epoch 15/30\n",
      "378/378 [==============================] - 0s 1ms/step - loss: 0.5699 - accuracy: 0.7670 - val_loss: 0.6392 - val_accuracy: 0.7427\n",
      "Epoch 16/30\n",
      "378/378 [==============================] - 0s 1ms/step - loss: 0.5637 - accuracy: 0.7710 - val_loss: 0.5932 - val_accuracy: 0.7530\n",
      "Epoch 17/30\n",
      "378/378 [==============================] - 0s 1ms/step - loss: 0.5581 - accuracy: 0.7720 - val_loss: 0.6319 - val_accuracy: 0.7278\n",
      "Epoch 18/30\n",
      "378/378 [==============================] - 0s 1ms/step - loss: 0.5513 - accuracy: 0.7721 - val_loss: 0.5892 - val_accuracy: 0.7523\n",
      "Epoch 19/30\n",
      "378/378 [==============================] - 0s 1ms/step - loss: 0.5410 - accuracy: 0.7806 - val_loss: 0.5952 - val_accuracy: 0.7556\n",
      "Epoch 20/30\n",
      "378/378 [==============================] - 0s 1ms/step - loss: 0.5390 - accuracy: 0.7807 - val_loss: 0.5790 - val_accuracy: 0.7609\n",
      "Epoch 21/30\n",
      "378/378 [==============================] - 0s 1ms/step - loss: 0.5303 - accuracy: 0.7860 - val_loss: 0.5755 - val_accuracy: 0.7646\n",
      "Epoch 22/30\n",
      "378/378 [==============================] - 0s 1ms/step - loss: 0.5229 - accuracy: 0.7877 - val_loss: 0.5708 - val_accuracy: 0.7639\n",
      "Epoch 23/30\n",
      "378/378 [==============================] - 0s 1ms/step - loss: 0.5209 - accuracy: 0.7842 - val_loss: 0.5787 - val_accuracy: 0.7526\n",
      "Epoch 24/30\n",
      "378/378 [==============================] - 0s 1ms/step - loss: 0.5128 - accuracy: 0.7936 - val_loss: 0.5778 - val_accuracy: 0.7655\n",
      "Epoch 25/30\n",
      "378/378 [==============================] - 0s 999us/step - loss: 0.5105 - accuracy: 0.7945 - val_loss: 0.5697 - val_accuracy: 0.7662\n",
      "Epoch 26/30\n",
      "378/378 [==============================] - 0s 1ms/step - loss: 0.5058 - accuracy: 0.7929 - val_loss: 0.5785 - val_accuracy: 0.7639\n",
      "Epoch 27/30\n",
      "378/378 [==============================] - 0s 1ms/step - loss: 0.4991 - accuracy: 0.7987 - val_loss: 0.5616 - val_accuracy: 0.7649\n",
      "Epoch 28/30\n",
      "378/378 [==============================] - 0s 1ms/step - loss: 0.4972 - accuracy: 0.7991 - val_loss: 0.5732 - val_accuracy: 0.7679\n",
      "Epoch 29/30\n",
      "378/378 [==============================] - 0s 1ms/step - loss: 0.4910 - accuracy: 0.8027 - val_loss: 0.5532 - val_accuracy: 0.7758\n",
      "Epoch 30/30\n",
      "378/378 [==============================] - 0s 1ms/step - loss: 0.4846 - accuracy: 0.8016 - val_loss: 0.5624 - val_accuracy: 0.7688\n"
     ]
    }
   ],
   "execution_count": 31
  },
  {
   "metadata": {
    "ExecuteTime": {
     "end_time": "2024-10-30T13:50:08.485080Z",
     "start_time": "2024-10-30T13:50:08.445415Z"
    }
   },
   "cell_type": "code",
   "source": [
    "# Saving the model\n",
    "model.save('forest_cover_model.h5')"
   ],
   "id": "c3fcda298b40ba0f",
   "outputs": [
    {
     "name": "stderr",
     "output_type": "stream",
     "text": [
      "C:\\Users\\Kruti Agrawal\\anaconda3\\envs\\new_env\\lib\\site-packages\\keras\\src\\engine\\training.py:3000: UserWarning: You are saving your model as an HDF5 file via `model.save()`. This file format is considered legacy. We recommend using instead the native Keras format, e.g. `model.save('my_model.keras')`.\n",
      "  saving_api.save_model(\n"
     ]
    }
   ],
   "execution_count": 32
  },
  {
   "metadata": {
    "ExecuteTime": {
     "end_time": "2024-10-30T13:50:08.761027Z",
     "start_time": "2024-10-30T13:50:08.567516Z"
    }
   },
   "cell_type": "code",
   "source": [
    "# Evaluating on test data\n",
    "test_loss, test_acc = model.evaluate(X_test, y_test)\n",
    "print(f\"Test Accuracy: {test_acc:.2f}\")"
   ],
   "id": "1061ff759d073f42",
   "outputs": [
    {
     "name": "stdout",
     "output_type": "stream",
     "text": [
      "95/95 [==============================] - 0s 1ms/step - loss: 0.5624 - accuracy: 0.7688\n",
      "Test Accuracy: 0.77\n"
     ]
    }
   ],
   "execution_count": 33
  },
  {
   "metadata": {
    "ExecuteTime": {
     "end_time": "2024-10-30T13:50:08.801680Z",
     "start_time": "2024-10-30T13:50:08.785189Z"
    }
   },
   "cell_type": "code",
   "source": "",
   "id": "3aa0ca9f6a224593",
   "outputs": [],
   "execution_count": null
  }
 ],
 "metadata": {
  "kernelspec": {
   "display_name": "Python 3 (ipykernel)",
   "language": "python",
   "name": "python3"
  },
  "language_info": {
   "codemirror_mode": {
    "name": "ipython",
    "version": 3
   },
   "file_extension": ".py",
   "mimetype": "text/x-python",
   "name": "python",
   "nbconvert_exporter": "python",
   "pygments_lexer": "ipython3",
   "version": "3.12.4"
  }
 },
 "nbformat": 4,
 "nbformat_minor": 5
}
